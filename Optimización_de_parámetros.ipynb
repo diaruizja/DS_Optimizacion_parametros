{
  "nbformat": 4,
  "nbformat_minor": 0,
  "metadata": {
    "kernelspec": {
      "display_name": "Python 3",
      "language": "python",
      "name": "python3"
    },
    "language_info": {
      "codemirror_mode": {
        "name": "ipython",
        "version": 3
      },
      "file_extension": ".py",
      "mimetype": "text/x-python",
      "name": "python",
      "nbconvert_exporter": "python",
      "pygments_lexer": "ipython3",
      "version": "3.6.5"
    },
    "colab": {
      "name": "Optimización de parámetros.ipynb",
      "provenance": [],
      "collapsed_sections": [],
      "include_colab_link": true
    }
  },
  "cells": [
    {
      "cell_type": "markdown",
      "metadata": {
        "id": "view-in-github",
        "colab_type": "text"
      },
      "source": [
        "<a href=\"https://colab.research.google.com/github/diaruizja/DS_Optimizacion_parametros/blob/master/Optimizaci%C3%B3n_de_par%C3%A1metros.ipynb\" target=\"_parent\"><img src=\"https://colab.research.google.com/assets/colab-badge.svg\" alt=\"Open In Colab\"/></a>"
      ]
    },
    {
      "cell_type": "markdown",
      "metadata": {
        "id": "lXrBioEnVY5w",
        "colab_type": "text"
      },
      "source": [
        "# MiniProyecto 4: Optimización de parámetros"
      ]
    },
    {
      "cell_type": "markdown",
      "metadata": {
        "id": "8D8DeA1RVY5x",
        "colab_type": "text"
      },
      "source": [
        "¡Bienvenidos al cuarto (mini)proyecto de la carrera de Data Science de Acamica! \n",
        "\n",
        "En este proyecto vamos a seguir trabajando (por última vez) con el dataset de propiedades en venta publicadas en el portal [Properati](www.properati.com.ar). El objetivo en este caso es optimizar los parámetros de los algoritmos que usamos en el proyecto pasado.\n",
        "\n",
        "El dataset es el mismo del proyecto 3. Recordemos que las columnas que se agregan son:\n",
        "\n",
        "* `barrios_match`: si coincide el barrio publicado con el geográfico vale 1, si no 0.\n",
        "\n",
        "* `PH`, `apartment`, `house`: variables binarias que indican el tipo de propiedad.\n",
        "\n",
        "* dummies de barrios: variables binarias con 1 o 0 según el barrio.\n",
        "\n",
        "La métrica que vamos a usar para medir es RMSE (raíz del error cuadréatico medio), cuya fórmula es:\n",
        "\n",
        "$$RMSE = \\sqrt{\\frac{\\sum_{t=1}^n (\\hat y_t - y_t)^2}{n}}$$"
      ]
    },
    {
      "cell_type": "code",
      "metadata": {
        "id": "apCzp2u6XMQx",
        "colab_type": "code",
        "colab": {
          "base_uri": "https://localhost:8080/",
          "height": 122
        },
        "outputId": "30108ed9-8ad2-42f0-ad00-e199c23f96ad"
      },
      "source": [
        "from google.colab import drive\n",
        "drive.mount('/content/drive')"
      ],
      "execution_count": null,
      "outputs": [
        {
          "output_type": "stream",
          "text": [
            "Go to this URL in a browser: https://accounts.google.com/o/oauth2/auth?client_id=947318989803-6bn6qk8qdgf4n4g3pfee6491hc0brc4i.apps.googleusercontent.com&redirect_uri=urn%3aietf%3awg%3aoauth%3a2.0%3aoob&response_type=code&scope=email%20https%3a%2f%2fwww.googleapis.com%2fauth%2fdocs.test%20https%3a%2f%2fwww.googleapis.com%2fauth%2fdrive%20https%3a%2f%2fwww.googleapis.com%2fauth%2fdrive.photos.readonly%20https%3a%2f%2fwww.googleapis.com%2fauth%2fpeopleapi.readonly\n",
            "\n",
            "Enter your authorization code:\n",
            "··········\n",
            "Mounted at /content/drive\n"
          ],
          "name": "stdout"
        }
      ]
    },
    {
      "cell_type": "markdown",
      "metadata": {
        "id": "ANAeYvxjVY5y",
        "colab_type": "text"
      },
      "source": [
        "## Pandas - Levantamos el dataset"
      ]
    },
    {
      "cell_type": "code",
      "metadata": {
        "id": "KPpncAyzVY5y",
        "colab_type": "code",
        "colab": {}
      },
      "source": [
        "import pandas as pd\n",
        "pd.set_option('display.float_format', lambda x: '%.3f' % x)\n",
        "path_dataset = '/content/drive/My Drive/Data Science/Entregas de proyectos/Entrega #4/datos_properati_limpios_model.csv'\n",
        "df = pd.read_csv(path_dataset)"
      ],
      "execution_count": null,
      "outputs": []
    },
    {
      "cell_type": "markdown",
      "metadata": {
        "id": "EL79_h0MVY52",
        "colab_type": "text"
      },
      "source": [
        "**Separá** el dataset en entrenamiento (80%) y test (20%) utilizando como target la columna `price_aprox_usd`"
      ]
    },
    {
      "cell_type": "code",
      "metadata": {
        "id": "cE5vEmRDVY53",
        "colab_type": "code",
        "colab": {
          "base_uri": "https://localhost:8080/",
          "height": 85
        },
        "outputId": "210dbeb4-59df-4916-db50-a89409a163f2"
      },
      "source": [
        "# Hacé la separación en esta celda\n",
        "X = df.drop(['price_aprox_usd'], axis=1)\n",
        "y = df['price_aprox_usd']\n",
        "\n",
        "from sklearn.model_selection import train_test_split\n",
        "X_train, X_test, y_train, y_test = train_test_split(X, y, test_size=0.2, random_state=42)\n",
        "print(X_train.shape, \"\\n\", y_train.shape, \"\\n\", X_test.shape, \"\\n\", y_test.shape)"
      ],
      "execution_count": null,
      "outputs": [
        {
          "output_type": "stream",
          "text": [
            "(5100, 58) \n",
            " (5100,) \n",
            " (1276, 58) \n",
            " (1276,)\n"
          ],
          "name": "stdout"
        }
      ]
    },
    {
      "cell_type": "code",
      "metadata": {
        "id": "WjG4QqbGVY57",
        "colab_type": "code",
        "colab": {
          "base_uri": "https://localhost:8080/",
          "height": 34
        },
        "outputId": "696f46e4-e9d3-4911-ecca-e1cc9a5a6ef7"
      },
      "source": [
        "# Esto es lo que hace\n",
        "import numpy as np\n",
        "np.random.seed(123)\n",
        "from sklearn.model_selection import train_test_split\n",
        "X = df.drop(['price_aprox_usd'], axis=1)\n",
        "y = df['price_aprox_usd']\n",
        "X_train, X_test, y_train, y_test = train_test_split(\n",
        "    X, y, test_size=0.2, random_state=42)\n",
        "\n",
        "print(X_train.shape[0], X_test.shape[0])"
      ],
      "execution_count": null,
      "outputs": [
        {
          "output_type": "stream",
          "text": [
            "5100 1276\n"
          ],
          "name": "stdout"
        }
      ]
    },
    {
      "cell_type": "markdown",
      "metadata": {
        "id": "dcdNETWzVY5_",
        "colab_type": "text"
      },
      "source": [
        "## Scikit-learn - Entrenamiento"
      ]
    },
    {
      "cell_type": "markdown",
      "metadata": {
        "id": "MW4SYTlbVY6A",
        "colab_type": "text"
      },
      "source": [
        "Para repasar los parámetros de árboles de decisión en Scikit-learn: \n",
        "\n",
        "http://scikit-learn.org/stable/modules/generated/sklearn.tree.DecisionTreeRegressor.html"
      ]
    },
    {
      "cell_type": "markdown",
      "metadata": {
        "id": "pmOqtinWVY6B",
        "colab_type": "text"
      },
      "source": [
        "En primer lugar veamos como hacer cross validation. Para eso necesitamos definir la cantidad de folds, en este caso vamos a usar 5.\n",
        "\n",
        "GridSearchCV nos permite testear a través de un espacio de búsqueda de parámetros la mejor combinación posible dado un estimador.\n",
        "\n",
        "Por ejemplo, en este caso probamos la profundidad máxima y la máxima cantidad de features para hacer los split. Ambos entre 1 y 5.\n",
        "Recordemos que para hacer la optimización scikit-learn usa la métrica `neg_mean_squared_error` en lugar de `mean_squared_error`."
      ]
    },
    {
      "cell_type": "markdown",
      "metadata": {
        "id": "BdNFCLG5VY6B",
        "colab_type": "text"
      },
      "source": [
        "**Creá** una variable `param_grid` con valores del 1 al 5 para los atributos `max_depth` y `max_features`. "
      ]
    },
    {
      "cell_type": "code",
      "metadata": {
        "id": "s78BSKdnVY6C",
        "colab_type": "code",
        "colab": {}
      },
      "source": [
        "# Creá en esta celda la variable param_grid\n",
        "param_grid = [{'max_depth': [1, 2, 3, 4, 5], 'max_features': [1, 2, 3, 4, 5]}]"
      ],
      "execution_count": null,
      "outputs": []
    },
    {
      "cell_type": "markdown",
      "metadata": {
        "id": "i-yMHSKDVY6G",
        "colab_type": "text"
      },
      "source": [
        "**Importá** `GridSearchCV` y `DecisionTreeRegressor`.\n",
        "\n",
        "**Creá** una variable `grid_search` y asignale un `GridSearchCV` que recorra el `param_grid` que creaste con el algoritmos `DecisionTreeRegressor` y el un scoring de `neg_mean_squared_error`"
      ]
    },
    {
      "cell_type": "code",
      "metadata": {
        "id": "-9Ddp8LLVY6G",
        "colab_type": "code",
        "colab": {}
      },
      "source": [
        "# Importa y crea un GridSearchCV en esta celda\n",
        "from sklearn.model_selection import GridSearchCV\n",
        "from sklearn.tree import DecisionTreeRegressor\n",
        "tree_reg = DecisionTreeRegressor()\n",
        "grid_search = GridSearchCV(tree_reg, param_grid, cv=5, scoring='neg_mean_squared_error', return_train_score=True)"
      ],
      "execution_count": null,
      "outputs": []
    },
    {
      "cell_type": "markdown",
      "metadata": {
        "id": "1Kd6F-0RVY6L",
        "colab_type": "text"
      },
      "source": [
        "A continuación, realizá el `fit` del `grid_search` con el conjunto de entrenamiento"
      ]
    },
    {
      "cell_type": "code",
      "metadata": {
        "id": "MOttCevuVY6L",
        "colab_type": "code",
        "colab": {
          "base_uri": "https://localhost:8080/",
          "height": 306
        },
        "outputId": "7dc0c0ec-9d17-43fc-e70d-100590d6c808"
      },
      "source": [
        "# Hace el fit de grid search en esta celda\n",
        "grid_search.fit(X_train, y_train)"
      ],
      "execution_count": null,
      "outputs": [
        {
          "output_type": "execute_result",
          "data": {
            "text/plain": [
              "GridSearchCV(cv=5, error_score=nan,\n",
              "             estimator=DecisionTreeRegressor(ccp_alpha=0.0, criterion='mse',\n",
              "                                             max_depth=None, max_features=None,\n",
              "                                             max_leaf_nodes=None,\n",
              "                                             min_impurity_decrease=0.0,\n",
              "                                             min_impurity_split=None,\n",
              "                                             min_samples_leaf=1,\n",
              "                                             min_samples_split=2,\n",
              "                                             min_weight_fraction_leaf=0.0,\n",
              "                                             presort='deprecated',\n",
              "                                             random_state=None,\n",
              "                                             splitter='best'),\n",
              "             iid='deprecated', n_jobs=None,\n",
              "             param_grid=[{'max_depth': [1, 2, 3, 4, 5],\n",
              "                          'max_features': [1, 2, 3, 4, 5]}],\n",
              "             pre_dispatch='2*n_jobs', refit=True, return_train_score=True,\n",
              "             scoring='neg_mean_squared_error', verbose=0)"
            ]
          },
          "metadata": {
            "tags": []
          },
          "execution_count": 8
        }
      ]
    },
    {
      "cell_type": "markdown",
      "metadata": {
        "id": "jKmMWsg6VY6P",
        "colab_type": "text"
      },
      "source": [
        "Revisemos los resultados. Recordemos que no están expresados en RMSE."
      ]
    },
    {
      "cell_type": "code",
      "metadata": {
        "id": "2wf5IiX_VY6P",
        "colab_type": "code",
        "colab": {
          "base_uri": "https://localhost:8080/",
          "height": 34
        },
        "outputId": "f119b69d-3ce5-4200-e1a7-c8abeb1a7d0c"
      },
      "source": [
        "grid_search.scorer_ #este comando me deja dudas de porque no me muestra ningun resultado."
      ],
      "execution_count": null,
      "outputs": [
        {
          "output_type": "execute_result",
          "data": {
            "text/plain": [
              "make_scorer(mean_squared_error, greater_is_better=False)"
            ]
          },
          "metadata": {
            "tags": []
          },
          "execution_count": 9
        }
      ]
    },
    {
      "cell_type": "code",
      "metadata": {
        "id": "_YeFfkilYD5H",
        "colab_type": "code",
        "colab": {}
      },
      "source": [
        "#Se muestra una visualizacion amplia de los resultados obtenidos con el GridSearchCV\n",
        "grid_search.cv_results_"
      ],
      "execution_count": null,
      "outputs": []
    },
    {
      "cell_type": "markdown",
      "metadata": {
        "id": "oXtlY4oKVY6S",
        "colab_type": "text"
      },
      "source": [
        "**Mostrá** los `grid_scores` obtenidos durante el `grid_search`"
      ]
    },
    {
      "cell_type": "code",
      "metadata": {
        "id": "qWpbovhwVY6T",
        "colab_type": "code",
        "colab": {
          "base_uri": "https://localhost:8080/",
          "height": 136
        },
        "outputId": "aa760c2e-d0bc-4a46-949d-17ed2dc051bc"
      },
      "source": [
        "# Mostrá los grid_scores en esta celda\n",
        "grid_search.cv_results_[\"mean_train_score\"]"
      ],
      "execution_count": null,
      "outputs": [
        {
          "output_type": "execute_result",
          "data": {
            "text/plain": [
              "array([-9.55588857e+08, -9.57468890e+08, -9.72983861e+08, -9.23628746e+08,\n",
              "       -9.74037208e+08, -9.27697741e+08, -9.22782382e+08, -9.18594195e+08,\n",
              "       -9.17251310e+08, -9.26891537e+08, -9.46259883e+08, -9.06038074e+08,\n",
              "       -8.53680623e+08, -7.71936220e+08, -8.64641322e+08, -9.60984110e+08,\n",
              "       -9.35611617e+08, -7.91252565e+08, -6.90511634e+08, -8.74058455e+08,\n",
              "       -8.39258972e+08, -8.16057480e+08, -7.53021816e+08, -8.00184436e+08,\n",
              "       -8.24706576e+08])"
            ]
          },
          "metadata": {
            "tags": []
          },
          "execution_count": 12
        }
      ]
    },
    {
      "cell_type": "code",
      "metadata": {
        "id": "TeFHizuwseLK",
        "colab_type": "code",
        "colab": {
          "base_uri": "https://localhost:8080/",
          "height": 136
        },
        "outputId": "41ae024e-17e8-4205-b0bf-8c9397061fd5"
      },
      "source": [
        "#en esta celda se halla el RMSE para los scores resultantes del train\n",
        "np.sqrt(-grid_search.cv_results_[\"mean_train_score\"])"
      ],
      "execution_count": null,
      "outputs": [
        {
          "output_type": "execute_result",
          "data": {
            "text/plain": [
              "array([30912.60029123, 30942.99420572, 31192.68922801, 30391.26100603,\n",
              "       31209.56916574, 30458.13095171, 30377.33335566, 30308.31891279,\n",
              "       30286.15707341, 30444.89344099, 30761.33746805, 30100.46634338,\n",
              "       29217.81345087, 27783.74020398, 29404.78399914, 30999.74371442,\n",
              "       30587.76907368, 28129.21194524, 26277.58806287, 29564.47962086,\n",
              "       28969.96672043, 28566.71978936, 27441.24297365, 28287.53145448,\n",
              "       28717.70491712])"
            ]
          },
          "metadata": {
            "tags": []
          },
          "execution_count": 13
        }
      ]
    },
    {
      "cell_type": "code",
      "metadata": {
        "id": "6L0sj22GxlIb",
        "colab_type": "code",
        "colab": {
          "base_uri": "https://localhost:8080/",
          "height": 136
        },
        "outputId": "3ad05e25-5400-4861-8170-7072a502a4d3"
      },
      "source": [
        "#en esta celda se muestran los scores obtenidos para el conjunto de test por medio de la metrica del GridSearchCV\n",
        "grid_search.cv_results_[\"mean_test_score\"]"
      ],
      "execution_count": null,
      "outputs": [
        {
          "output_type": "execute_result",
          "data": {
            "text/plain": [
              "array([-9.67815478e+08, -9.67910484e+08, -9.73432428e+08, -9.26098952e+08,\n",
              "       -9.78231080e+08, -9.39192560e+08, -9.15148163e+08, -9.13017431e+08,\n",
              "       -9.14864707e+08, -9.26966397e+08, -9.52605383e+08, -9.16501632e+08,\n",
              "       -8.60045736e+08, -7.78662849e+08, -8.67461859e+08, -9.67902756e+08,\n",
              "       -9.49797182e+08, -7.98821216e+08, -7.13698125e+08, -8.83000682e+08,\n",
              "       -8.62664509e+08, -8.27410460e+08, -7.83031651e+08, -8.20222490e+08,\n",
              "       -8.64001486e+08])"
            ]
          },
          "metadata": {
            "tags": []
          },
          "execution_count": 42
        }
      ]
    },
    {
      "cell_type": "code",
      "metadata": {
        "id": "2ZZbMTLrxr-y",
        "colab_type": "code",
        "colab": {
          "base_uri": "https://localhost:8080/",
          "height": 136
        },
        "outputId": "7bde8c7d-74e9-457d-fd8a-853809b3b225"
      },
      "source": [
        "#en esta celda se halla el RMSE para los scores resultantes del test\n",
        "np.sqrt(-grid_search.cv_results_[\"mean_test_score\"])"
      ],
      "execution_count": null,
      "outputs": [
        {
          "output_type": "execute_result",
          "data": {
            "text/plain": [
              "array([31109.73284714, 31111.25977036, 31199.87865805, 30431.87394255,\n",
              "       31276.68588291, 30646.24870245, 30251.41587674, 30216.17830125,\n",
              "       30246.73051206, 30446.12285887, 30864.30597708, 30273.77796642,\n",
              "       29326.53637572, 27904.53097374, 29452.70546479, 31111.13556028,\n",
              "       30818.77969799, 28263.42541355, 26715.12914008, 29715.32738582,\n",
              "       29371.1509691 , 28764.74334538, 27982.70271826, 28639.52671136,\n",
              "       29393.90218227])"
            ]
          },
          "metadata": {
            "tags": []
          },
          "execution_count": 43
        }
      ]
    },
    {
      "cell_type": "markdown",
      "metadata": {
        "id": "GPDS_02oVY6W",
        "colab_type": "text"
      },
      "source": [
        "De esta manera, el valor con mejor resultado (dado el espacio de búsqueda definido) es `max_depth` 3 y `max_features` 3."
      ]
    },
    {
      "cell_type": "markdown",
      "metadata": {
        "id": "RxsX6e4NVY6X",
        "colab_type": "text"
      },
      "source": [
        "**Mostrá** el mejor score y los mejores parámetros encontrados por `grid_search`"
      ]
    },
    {
      "cell_type": "code",
      "metadata": {
        "id": "yK_B5Z8VVY6Y",
        "colab_type": "code",
        "colab": {
          "base_uri": "https://localhost:8080/",
          "height": 34
        },
        "outputId": "25de3064-4bad-4e02-e66d-2a9f071905c1"
      },
      "source": [
        "# Mostrás los resultados en esta celda\n",
        "grid_search.best_score_"
      ],
      "execution_count": null,
      "outputs": [
        {
          "output_type": "execute_result",
          "data": {
            "text/plain": [
              "-713698124.9712428"
            ]
          },
          "metadata": {
            "tags": []
          },
          "execution_count": 14
        }
      ]
    },
    {
      "cell_type": "code",
      "metadata": {
        "id": "JrlGof2xs3FR",
        "colab_type": "code",
        "colab": {
          "base_uri": "https://localhost:8080/",
          "height": 34
        },
        "outputId": "9b410613-3ad1-4a68-c927-ebfa4d6803ee"
      },
      "source": [
        "#en esta celda se muestra el RMSE obtenido de mejor score resultante del GridSearchCV\n",
        "np.sqrt(-grid_search.best_score_)"
      ],
      "execution_count": null,
      "outputs": [
        {
          "output_type": "execute_result",
          "data": {
            "text/plain": [
              "26715.129140081706"
            ]
          },
          "metadata": {
            "tags": []
          },
          "execution_count": 15
        }
      ]
    },
    {
      "cell_type": "code",
      "metadata": {
        "id": "dfIYQ82ssxAX",
        "colab_type": "code",
        "colab": {
          "base_uri": "https://localhost:8080/",
          "height": 34
        },
        "outputId": "b2fea82f-5998-47f1-c260-07b89c38e3af"
      },
      "source": [
        "grid_search.best_params_"
      ],
      "execution_count": null,
      "outputs": [
        {
          "output_type": "execute_result",
          "data": {
            "text/plain": [
              "{'max_depth': 4, 'max_features': 4}"
            ]
          },
          "metadata": {
            "tags": []
          },
          "execution_count": 16
        }
      ]
    },
    {
      "cell_type": "code",
      "metadata": {
        "id": "UIi_tUJ1tqtV",
        "colab_type": "code",
        "colab": {}
      },
      "source": [
        "rmses_train_score_mss = np.sqrt(-grid_search.cv_results_[\"mean_train_score\"])\n",
        "rmses_test_score_mss = np.sqrt(-grid_search.cv_results_[\"mean_test_score\"])"
      ],
      "execution_count": null,
      "outputs": []
    },
    {
      "cell_type": "code",
      "metadata": {
        "id": "fRs9qjHjuULi",
        "colab_type": "code",
        "colab": {
          "base_uri": "https://localhost:8080/",
          "height": 626
        },
        "outputId": "9ed5f4e9-67c6-4da1-e450-948e9cf18cd8"
      },
      "source": [
        "#este bloque de codigo hace parte de un feedback pero la verdad no la entiendo o no se realmente que me querian mostrar con esto.\n",
        "\n",
        "import matplotlib.pyplot as plt\n",
        "\n",
        "plt.plot(range(1, 40), rmses_train_score_mss, label=\"RMSES Training Score\")\n",
        "plt.plot(range(1, 40), rmses_test_score_mss, label=\"RMSES Testing Score\")\n",
        "plt.ylim((0, 30000))\n",
        "plt.legend(loc=\"best\")\n",
        "plt.xlabel(\"Max Depth\")\n",
        "plt.ylabel(\"Rmse\")\n",
        "plt.title(\"Impacto Max Depth en Rmses Train y Test\")\n",
        "plt.show()"
      ],
      "execution_count": null,
      "outputs": [
        {
          "output_type": "error",
          "ename": "ValueError",
          "evalue": "ignored",
          "traceback": [
            "\u001b[0;31m---------------------------------------------------------------------------\u001b[0m",
            "\u001b[0;31mValueError\u001b[0m                                Traceback (most recent call last)",
            "\u001b[0;32m<ipython-input-54-bbd0205773a4>\u001b[0m in \u001b[0;36m<module>\u001b[0;34m()\u001b[0m\n\u001b[1;32m      2\u001b[0m \u001b[0;32mimport\u001b[0m \u001b[0mmatplotlib\u001b[0m\u001b[0;34m.\u001b[0m\u001b[0mpyplot\u001b[0m \u001b[0;32mas\u001b[0m \u001b[0mplt\u001b[0m\u001b[0;34m\u001b[0m\u001b[0;34m\u001b[0m\u001b[0m\n\u001b[1;32m      3\u001b[0m \u001b[0;34m\u001b[0m\u001b[0m\n\u001b[0;32m----> 4\u001b[0;31m \u001b[0mplt\u001b[0m\u001b[0;34m.\u001b[0m\u001b[0mplot\u001b[0m\u001b[0;34m(\u001b[0m\u001b[0mrange\u001b[0m\u001b[0;34m(\u001b[0m\u001b[0;36m1\u001b[0m\u001b[0;34m,\u001b[0m \u001b[0;36m40\u001b[0m\u001b[0;34m)\u001b[0m\u001b[0;34m,\u001b[0m \u001b[0mrmses_train_score_mss\u001b[0m\u001b[0;34m,\u001b[0m \u001b[0mlabel\u001b[0m\u001b[0;34m=\u001b[0m\u001b[0;34m\"RMSES Training Score\"\u001b[0m\u001b[0;34m)\u001b[0m\u001b[0;34m\u001b[0m\u001b[0;34m\u001b[0m\u001b[0m\n\u001b[0m\u001b[1;32m      5\u001b[0m \u001b[0mplt\u001b[0m\u001b[0;34m.\u001b[0m\u001b[0mplot\u001b[0m\u001b[0;34m(\u001b[0m\u001b[0mrange\u001b[0m\u001b[0;34m(\u001b[0m\u001b[0;36m1\u001b[0m\u001b[0;34m,\u001b[0m \u001b[0;36m40\u001b[0m\u001b[0;34m)\u001b[0m\u001b[0;34m,\u001b[0m \u001b[0mrmses_test_score_mss\u001b[0m\u001b[0;34m,\u001b[0m \u001b[0mlabel\u001b[0m\u001b[0;34m=\u001b[0m\u001b[0;34m\"RMSES Testing Score\"\u001b[0m\u001b[0;34m)\u001b[0m\u001b[0;34m\u001b[0m\u001b[0;34m\u001b[0m\u001b[0m\n\u001b[1;32m      6\u001b[0m \u001b[0mplt\u001b[0m\u001b[0;34m.\u001b[0m\u001b[0mylim\u001b[0m\u001b[0;34m(\u001b[0m\u001b[0;34m(\u001b[0m\u001b[0;36m0\u001b[0m\u001b[0;34m,\u001b[0m \u001b[0;36m30000\u001b[0m\u001b[0;34m)\u001b[0m\u001b[0;34m)\u001b[0m\u001b[0;34m\u001b[0m\u001b[0;34m\u001b[0m\u001b[0m\n",
            "\u001b[0;32m/usr/local/lib/python3.6/dist-packages/matplotlib/pyplot.py\u001b[0m in \u001b[0;36mplot\u001b[0;34m(scalex, scaley, data, *args, **kwargs)\u001b[0m\n\u001b[1;32m   2761\u001b[0m     return gca().plot(\n\u001b[1;32m   2762\u001b[0m         *args, scalex=scalex, scaley=scaley, **({\"data\": data} if data\n\u001b[0;32m-> 2763\u001b[0;31m         is not None else {}), **kwargs)\n\u001b[0m\u001b[1;32m   2764\u001b[0m \u001b[0;34m\u001b[0m\u001b[0m\n\u001b[1;32m   2765\u001b[0m \u001b[0;34m\u001b[0m\u001b[0m\n",
            "\u001b[0;32m/usr/local/lib/python3.6/dist-packages/matplotlib/axes/_axes.py\u001b[0m in \u001b[0;36mplot\u001b[0;34m(self, scalex, scaley, data, *args, **kwargs)\u001b[0m\n\u001b[1;32m   1644\u001b[0m         \"\"\"\n\u001b[1;32m   1645\u001b[0m         \u001b[0mkwargs\u001b[0m \u001b[0;34m=\u001b[0m \u001b[0mcbook\u001b[0m\u001b[0;34m.\u001b[0m\u001b[0mnormalize_kwargs\u001b[0m\u001b[0;34m(\u001b[0m\u001b[0mkwargs\u001b[0m\u001b[0;34m,\u001b[0m \u001b[0mmlines\u001b[0m\u001b[0;34m.\u001b[0m\u001b[0mLine2D\u001b[0m\u001b[0;34m)\u001b[0m\u001b[0;34m\u001b[0m\u001b[0;34m\u001b[0m\u001b[0m\n\u001b[0;32m-> 1646\u001b[0;31m         \u001b[0mlines\u001b[0m \u001b[0;34m=\u001b[0m \u001b[0;34m[\u001b[0m\u001b[0;34m*\u001b[0m\u001b[0mself\u001b[0m\u001b[0;34m.\u001b[0m\u001b[0m_get_lines\u001b[0m\u001b[0;34m(\u001b[0m\u001b[0;34m*\u001b[0m\u001b[0margs\u001b[0m\u001b[0;34m,\u001b[0m \u001b[0mdata\u001b[0m\u001b[0;34m=\u001b[0m\u001b[0mdata\u001b[0m\u001b[0;34m,\u001b[0m \u001b[0;34m**\u001b[0m\u001b[0mkwargs\u001b[0m\u001b[0;34m)\u001b[0m\u001b[0;34m]\u001b[0m\u001b[0;34m\u001b[0m\u001b[0;34m\u001b[0m\u001b[0m\n\u001b[0m\u001b[1;32m   1647\u001b[0m         \u001b[0;32mfor\u001b[0m \u001b[0mline\u001b[0m \u001b[0;32min\u001b[0m \u001b[0mlines\u001b[0m\u001b[0;34m:\u001b[0m\u001b[0;34m\u001b[0m\u001b[0;34m\u001b[0m\u001b[0m\n\u001b[1;32m   1648\u001b[0m             \u001b[0mself\u001b[0m\u001b[0;34m.\u001b[0m\u001b[0madd_line\u001b[0m\u001b[0;34m(\u001b[0m\u001b[0mline\u001b[0m\u001b[0;34m)\u001b[0m\u001b[0;34m\u001b[0m\u001b[0;34m\u001b[0m\u001b[0m\n",
            "\u001b[0;32m/usr/local/lib/python3.6/dist-packages/matplotlib/axes/_base.py\u001b[0m in \u001b[0;36m__call__\u001b[0;34m(self, *args, **kwargs)\u001b[0m\n\u001b[1;32m    214\u001b[0m                 \u001b[0mthis\u001b[0m \u001b[0;34m+=\u001b[0m \u001b[0margs\u001b[0m\u001b[0;34m[\u001b[0m\u001b[0;36m0\u001b[0m\u001b[0;34m]\u001b[0m\u001b[0;34m,\u001b[0m\u001b[0;34m\u001b[0m\u001b[0;34m\u001b[0m\u001b[0m\n\u001b[1;32m    215\u001b[0m                 \u001b[0margs\u001b[0m \u001b[0;34m=\u001b[0m \u001b[0margs\u001b[0m\u001b[0;34m[\u001b[0m\u001b[0;36m1\u001b[0m\u001b[0;34m:\u001b[0m\u001b[0;34m]\u001b[0m\u001b[0;34m\u001b[0m\u001b[0;34m\u001b[0m\u001b[0m\n\u001b[0;32m--> 216\u001b[0;31m             \u001b[0;32myield\u001b[0m \u001b[0;32mfrom\u001b[0m \u001b[0mself\u001b[0m\u001b[0;34m.\u001b[0m\u001b[0m_plot_args\u001b[0m\u001b[0;34m(\u001b[0m\u001b[0mthis\u001b[0m\u001b[0;34m,\u001b[0m \u001b[0mkwargs\u001b[0m\u001b[0;34m)\u001b[0m\u001b[0;34m\u001b[0m\u001b[0;34m\u001b[0m\u001b[0m\n\u001b[0m\u001b[1;32m    217\u001b[0m \u001b[0;34m\u001b[0m\u001b[0m\n\u001b[1;32m    218\u001b[0m     \u001b[0;32mdef\u001b[0m \u001b[0mget_next_color\u001b[0m\u001b[0;34m(\u001b[0m\u001b[0mself\u001b[0m\u001b[0;34m)\u001b[0m\u001b[0;34m:\u001b[0m\u001b[0;34m\u001b[0m\u001b[0;34m\u001b[0m\u001b[0m\n",
            "\u001b[0;32m/usr/local/lib/python3.6/dist-packages/matplotlib/axes/_base.py\u001b[0m in \u001b[0;36m_plot_args\u001b[0;34m(self, tup, kwargs)\u001b[0m\n\u001b[1;32m    340\u001b[0m \u001b[0;34m\u001b[0m\u001b[0m\n\u001b[1;32m    341\u001b[0m         \u001b[0;32mif\u001b[0m \u001b[0mx\u001b[0m\u001b[0;34m.\u001b[0m\u001b[0mshape\u001b[0m\u001b[0;34m[\u001b[0m\u001b[0;36m0\u001b[0m\u001b[0;34m]\u001b[0m \u001b[0;34m!=\u001b[0m \u001b[0my\u001b[0m\u001b[0;34m.\u001b[0m\u001b[0mshape\u001b[0m\u001b[0;34m[\u001b[0m\u001b[0;36m0\u001b[0m\u001b[0;34m]\u001b[0m\u001b[0;34m:\u001b[0m\u001b[0;34m\u001b[0m\u001b[0;34m\u001b[0m\u001b[0m\n\u001b[0;32m--> 342\u001b[0;31m             raise ValueError(f\"x and y must have same first dimension, but \"\n\u001b[0m\u001b[1;32m    343\u001b[0m                              f\"have shapes {x.shape} and {y.shape}\")\n\u001b[1;32m    344\u001b[0m         \u001b[0;32mif\u001b[0m \u001b[0mx\u001b[0m\u001b[0;34m.\u001b[0m\u001b[0mndim\u001b[0m \u001b[0;34m>\u001b[0m \u001b[0;36m2\u001b[0m \u001b[0;32mor\u001b[0m \u001b[0my\u001b[0m\u001b[0;34m.\u001b[0m\u001b[0mndim\u001b[0m \u001b[0;34m>\u001b[0m \u001b[0;36m2\u001b[0m\u001b[0;34m:\u001b[0m\u001b[0;34m\u001b[0m\u001b[0;34m\u001b[0m\u001b[0m\n",
            "\u001b[0;31mValueError\u001b[0m: x and y must have same first dimension, but have shapes (39,) and (25,)"
          ]
        },
        {
          "output_type": "display_data",
          "data": {
            "image/png": "[encoded data removed]",
            "text/plain": [
              "<Figure size 432x288 with 1 Axes>"
            ]
          },
          "metadata": {
            "tags": [],
            "needs_background": "light"
          }
        }
      ]
    },
    {
      "cell_type": "markdown",
      "metadata": {
        "id": "VNjXNJ7kyzF_",
        "colab_type": "text"
      },
      "source": [
        "\"\"\"\n",
        "en este campo por iniciativa propia hago una comparacion de los datos evaluando y reajustando con la metrica del RandomizedSearchCV\n",
        "\"\"\""
      ]
    },
    {
      "cell_type": "code",
      "metadata": {
        "id": "7O01wDyTy2Ne",
        "colab_type": "code",
        "colab": {}
      },
      "source": [
        "from sklearn.model_selection import RandomizedSearchCV\n",
        "from scipy.stats import randint as sp_randint\n",
        "\n",
        "param_grid = {'max_depth': sp_randint(1, 5), 'max_features': sp_randint(1, 5)}"
      ],
      "execution_count": null,
      "outputs": []
    },
    {
      "cell_type": "code",
      "metadata": {
        "id": "roVl1sXT0RPj",
        "colab_type": "code",
        "colab": {
          "base_uri": "https://localhost:8080/",
          "height": 357
        },
        "outputId": "a13dd203-b914-41cc-e5c3-d1c16d24ff70"
      },
      "source": [
        "tree_reg = DecisionTreeRegressor()\n",
        "rand_search = RandomizedSearchCV(tree_reg, param_distributions=param_grid, cv=5,\n",
        "                                 scoring='neg_mean_squared_error',\n",
        "                                 \n",
        "                                 return_train_score=True)\n",
        "\n",
        "rand_search.fit(X_train, y_train)"
      ],
      "execution_count": null,
      "outputs": [
        {
          "output_type": "execute_result",
          "data": {
            "text/plain": [
              "RandomizedSearchCV(cv=5, error_score=nan,\n",
              "                   estimator=DecisionTreeRegressor(ccp_alpha=0.0,\n",
              "                                                   criterion='mse',\n",
              "                                                   max_depth=None,\n",
              "                                                   max_features=None,\n",
              "                                                   max_leaf_nodes=None,\n",
              "                                                   min_impurity_decrease=0.0,\n",
              "                                                   min_impurity_split=None,\n",
              "                                                   min_samples_leaf=1,\n",
              "                                                   min_samples_split=2,\n",
              "                                                   min_weight_fraction_leaf=0.0,\n",
              "                                                   presort='deprecated',\n",
              "                                                   random_state=None,\n",
              "                                                   splitter='best'),\n",
              "                   iid='deprecated', n_iter=10, n_jobs=None,\n",
              "                   param_distributions={'max_depth': <scipy.stats._distn_infrastructure.rv_frozen object at 0x7f8f85346b00>,\n",
              "                                        'max_features': <scipy.stats._distn_infrastructure.rv_frozen object at 0x7f8f853463c8>},\n",
              "                   pre_dispatch='2*n_jobs', random_state=None, refit=True,\n",
              "                   return_train_score=True, scoring='neg_mean_squared_error',\n",
              "                   verbose=0)"
            ]
          },
          "metadata": {
            "tags": []
          },
          "execution_count": 46
        }
      ]
    },
    {
      "cell_type": "code",
      "metadata": {
        "id": "E1HfVDKL1J4i",
        "colab_type": "code",
        "colab": {
          "base_uri": "https://localhost:8080/",
          "height": 34
        },
        "outputId": "0a36346c-9e8d-44a6-8711-c105648a9bca"
      },
      "source": [
        "rand_search.best_params_"
      ],
      "execution_count": null,
      "outputs": [
        {
          "output_type": "execute_result",
          "data": {
            "text/plain": [
              "{'max_depth': 4, 'max_features': 3}"
            ]
          },
          "metadata": {
            "tags": []
          },
          "execution_count": 47
        }
      ]
    },
    {
      "cell_type": "code",
      "metadata": {
        "id": "aADoXiXs1RJK",
        "colab_type": "code",
        "colab": {
          "base_uri": "https://localhost:8080/",
          "height": 34
        },
        "outputId": "5eac9d63-96d7-47b0-c9e1-55fd0110174e"
      },
      "source": [
        "rand_search.best_score_"
      ],
      "execution_count": null,
      "outputs": [
        {
          "output_type": "execute_result",
          "data": {
            "text/plain": [
              "-768876324.1986293"
            ]
          },
          "metadata": {
            "tags": []
          },
          "execution_count": 49
        }
      ]
    },
    {
      "cell_type": "code",
      "metadata": {
        "id": "-bIlmYKJ1ecH",
        "colab_type": "code",
        "colab": {
          "base_uri": "https://localhost:8080/",
          "height": 34
        },
        "outputId": "e6a6e7d7-7066-4771-9f0b-19de9dafabf6"
      },
      "source": [
        "np.sqrt(-rand_search.best_score_)"
      ],
      "execution_count": null,
      "outputs": [
        {
          "output_type": "execute_result",
          "data": {
            "text/plain": [
              "27728.619226326962"
            ]
          },
          "metadata": {
            "tags": []
          },
          "execution_count": 50
        }
      ]
    },
    {
      "cell_type": "code",
      "metadata": {
        "id": "YH-2lyA_115B",
        "colab_type": "code",
        "colab": {
          "base_uri": "https://localhost:8080/",
          "height": 68
        },
        "outputId": "9d588de4-3813-4c99-a3dc-2e9fd27e5c58"
      },
      "source": [
        "np.sqrt(-rand_search.cv_results_['mean_train_score'])"
      ],
      "execution_count": null,
      "outputs": [
        {
          "output_type": "execute_result",
          "data": {
            "text/plain": [
              "array([31147.778141  , 29840.73094795, 29262.68903496, 30098.10044713,\n",
              "       29360.90199014, 30232.5795328 , 27842.66273197, 30970.82185247,\n",
              "       29147.34878895, 29971.82376242])"
            ]
          },
          "metadata": {
            "tags": []
          },
          "execution_count": 51
        }
      ]
    },
    {
      "cell_type": "code",
      "metadata": {
        "id": "xH6bncte14hD",
        "colab_type": "code",
        "colab": {
          "base_uri": "https://localhost:8080/",
          "height": 68
        },
        "outputId": "505302c6-4d62-41f8-feab-1cba14727989"
      },
      "source": [
        "np.sqrt(-rand_search.cv_results_['mean_test_score'])"
      ],
      "execution_count": null,
      "outputs": [
        {
          "output_type": "execute_result",
          "data": {
            "text/plain": [
              "array([31265.33743297, 29999.92754835, 29496.34944762, 30291.79857262,\n",
              "       29420.42718574, 30082.03338222, 27728.61922633, 31027.97063039,\n",
              "       28987.77467185, 30282.96063336])"
            ]
          },
          "metadata": {
            "tags": []
          },
          "execution_count": 52
        }
      ]
    },
    {
      "cell_type": "code",
      "metadata": {
        "id": "maUBKEkn1_uh",
        "colab_type": "code",
        "colab": {
          "base_uri": "https://localhost:8080/",
          "height": 51
        },
        "outputId": "b8c42897-3b40-4fbe-87a0-2f088039544e"
      },
      "source": [
        "# Comparacion de los resultados entre RandomizedsearchCV y GridSearchCV\n",
        "print(\"Promedio GridSearchCV RMSE: \", np.sqrt(-grid_search.cv_results_['mean_test_score']).mean())\n",
        "print(\"Promedio RandomizedSearchCV RMSE: \", np.sqrt(-rand_search.cv_results_['mean_test_score']).mean())"
      ],
      "execution_count": null,
      "outputs": [
        {
          "output_type": "stream",
          "text": [
            "Promedio GridSearchCV RMSE:  29821.352289369614\n",
            "Promedio RandomizedSearchCV RMSE:  29858.31987314379\n"
          ],
          "name": "stdout"
        }
      ]
    },
    {
      "cell_type": "markdown",
      "metadata": {
        "id": "Cirn5Dku2UEs",
        "colab_type": "text"
      },
      "source": [
        "Se concluye con estas comparaciones que la metrica que mejores resultados arroja es el GridSearchCV"
      ]
    },
    {
      "cell_type": "markdown",
      "metadata": {
        "id": "S6W-xsfvVY6d",
        "colab_type": "text"
      },
      "source": [
        "Convertimos a RMSE."
      ]
    },
    {
      "cell_type": "code",
      "metadata": {
        "id": "zftu1TijVY6e",
        "colab_type": "code",
        "colab": {}
      },
      "source": [
        "def nmsq2rmse(score):\n",
        "    return np.round(np.sqrt(-score), 2)"
      ],
      "execution_count": null,
      "outputs": []
    },
    {
      "cell_type": "markdown",
      "metadata": {
        "id": "DNZgjl4-VY6n",
        "colab_type": "text"
      },
      "source": [
        "__Encontrar el mejor modelo para el espacio de búsqueda dado__\n",
        "\n",
        "* `\"min_samples_split\": [2, 10, 20]`\n",
        "* `\"max_depth\": [None, 2, 5, 10, 15]`\n",
        "* `\"min_samples_leaf\": [1, 5, 10, 15]`\n",
        "* `\"max_leaf_nodes\": [None, 5, 10, 20]`"
      ]
    },
    {
      "cell_type": "markdown",
      "metadata": {
        "id": "xrXiEJCzVY6o",
        "colab_type": "text"
      },
      "source": [
        "Recordemos que `GridSearchCV` tiene como parámetro default `refit=True`. Esto significa que luego de hacer la corrida se ajusta el mejor modelo al conjunto de datos de entrada. De esta manera, se puede predecir directamente usando `best_estimator_`."
      ]
    },
    {
      "cell_type": "code",
      "metadata": {
        "id": "hKGhK9e9YfWO",
        "colab_type": "code",
        "colab": {}
      },
      "source": [
        "param_grid1 = [{\"min_samples_split\": [2, 10, 20], \"max_depth\": [None, 2, 5, 10, 15], \"min_samples_leaf\": [1, 5, 10, 15], \"max_leaf_nodes\": [None, 5, 10, 20]}]"
      ],
      "execution_count": null,
      "outputs": []
    },
    {
      "cell_type": "code",
      "metadata": {
        "id": "Bkja6iWEYgLn",
        "colab_type": "code",
        "colab": {}
      },
      "source": [
        "tree_reg1 = DecisionTreeRegressor()\n",
        "grid_search1 = GridSearchCV(tree_reg1, param_grid1, cv=5,\n",
        "                           scoring='neg_mean_squared_error', \n",
        "                           return_train_score=True, refit=True)"
      ],
      "execution_count": null,
      "outputs": []
    },
    {
      "cell_type": "code",
      "metadata": {
        "id": "z-W7BewYYlo_",
        "colab_type": "code",
        "colab": {
          "base_uri": "https://localhost:8080/",
          "height": 340
        },
        "outputId": "bedcd9ca-37c5-4b0d-91f8-2726a5ec24be"
      },
      "source": [
        "grid_search1.fit(X_train, y_train)"
      ],
      "execution_count": null,
      "outputs": [
        {
          "output_type": "execute_result",
          "data": {
            "text/plain": [
              "GridSearchCV(cv=5, error_score=nan,\n",
              "             estimator=DecisionTreeRegressor(ccp_alpha=0.0, criterion='mse',\n",
              "                                             max_depth=None, max_features=None,\n",
              "                                             max_leaf_nodes=None,\n",
              "                                             min_impurity_decrease=0.0,\n",
              "                                             min_impurity_split=None,\n",
              "                                             min_samples_leaf=1,\n",
              "                                             min_samples_split=2,\n",
              "                                             min_weight_fraction_leaf=0.0,\n",
              "                                             presort='deprecated',\n",
              "                                             random_state=None,\n",
              "                                             splitter='best'),\n",
              "             iid='deprecated', n_jobs=None,\n",
              "             param_grid=[{'max_depth': [None, 2, 5, 10, 15],\n",
              "                          'max_leaf_nodes': [None, 5, 10, 20],\n",
              "                          'min_samples_leaf': [1, 5, 10, 15],\n",
              "                          'min_samples_split': [2, 10, 20]}],\n",
              "             pre_dispatch='2*n_jobs', refit=True, return_train_score=True,\n",
              "             scoring='neg_mean_squared_error', verbose=0)"
            ]
          },
          "metadata": {
            "tags": []
          },
          "execution_count": 15
        }
      ]
    },
    {
      "cell_type": "code",
      "metadata": {
        "id": "wOln3aJDVY6o",
        "colab_type": "code",
        "colab": {}
      },
      "source": [
        "optimised_decision_tree = grid_search1.best_estimator_"
      ],
      "execution_count": null,
      "outputs": []
    },
    {
      "cell_type": "markdown",
      "metadata": {
        "id": "GqaPdc4TVY6t",
        "colab_type": "text"
      },
      "source": [
        "__Evaluemos en testing el desempeño de este modelo.__\n",
        "\n",
        "Como venimos trabajando, el resultado en testing será la medición que usaremos como benchmark para comparar este modelos con otros en el futuro, puesto que no estuvo en contacto con el dataset de test para la calibración."
      ]
    },
    {
      "cell_type": "code",
      "metadata": {
        "id": "pYpqnsuyVY6t",
        "colab_type": "code",
        "colab": {
          "base_uri": "https://localhost:8080/",
          "height": 34
        },
        "outputId": "3c740b7a-f49f-4d32-d15f-d6ab87c1c159"
      },
      "source": [
        "from sklearn.metrics import mean_squared_error\n",
        "y_opt_pred = optimised_decision_tree.predict(X_test)\n",
        "rmse = np.sqrt(mean_squared_error(y_test, y_opt_pred))\n",
        "np.round(rmse)"
      ],
      "execution_count": null,
      "outputs": [
        {
          "output_type": "execute_result",
          "data": {
            "text/plain": [
              "21301.0"
            ]
          },
          "metadata": {
            "tags": []
          },
          "execution_count": 17
        }
      ]
    },
    {
      "cell_type": "markdown",
      "metadata": {
        "id": "NRnzsk-pVY6w",
        "colab_type": "text"
      },
      "source": [
        "Vemos los primeros 10 resultados de la predicción del valor de propiedades."
      ]
    },
    {
      "cell_type": "code",
      "metadata": {
        "id": "koxa5Q5qVY6x",
        "colab_type": "code",
        "colab": {}
      },
      "source": [
        "val_real = pd.Series(y_test.values)\n",
        "val_pred = pd.Series(y_opt_pred)"
      ],
      "execution_count": null,
      "outputs": []
    },
    {
      "cell_type": "code",
      "metadata": {
        "id": "x3RhAnSmVY61",
        "colab_type": "code",
        "colab": {}
      },
      "source": [
        "predicciones = pd.concat([val_real.rename('Valor real'),val_pred.rename('Valor Pred') ,abs(val_real-val_pred).rename('Dif(+/-)')] ,  axis=1)"
      ],
      "execution_count": null,
      "outputs": []
    },
    {
      "cell_type": "code",
      "metadata": {
        "id": "L0vfO6KAVY64",
        "colab_type": "code",
        "colab": {
          "base_uri": "https://localhost:8080/",
          "height": 359
        },
        "outputId": "cae53d02-dd53-46b0-a013-ccb312cc32b7"
      },
      "source": [
        "predicciones.head(10)"
      ],
      "execution_count": null,
      "outputs": [
        {
          "output_type": "execute_result",
          "data": {
            "text/html": [
              "<div>\n",
              "<style scoped>\n",
              "    .dataframe tbody tr th:only-of-type {\n",
              "        vertical-align: middle;\n",
              "    }\n",
              "\n",
              "    .dataframe tbody tr th {\n",
              "        vertical-align: top;\n",
              "    }\n",
              "\n",
              "    .dataframe thead th {\n",
              "        text-align: right;\n",
              "    }\n",
              "</style>\n",
              "<table border=\"1\" class=\"dataframe\">\n",
              "  <thead>\n",
              "    <tr style=\"text-align: right;\">\n",
              "      <th></th>\n",
              "      <th>Valor real</th>\n",
              "      <th>Valor Pred</th>\n",
              "      <th>Dif(+/-)</th>\n",
              "    </tr>\n",
              "  </thead>\n",
              "  <tbody>\n",
              "    <tr>\n",
              "      <th>0</th>\n",
              "      <td>80000.000</td>\n",
              "      <td>103438.660</td>\n",
              "      <td>23438.660</td>\n",
              "    </tr>\n",
              "    <tr>\n",
              "      <th>1</th>\n",
              "      <td>128000.000</td>\n",
              "      <td>135705.882</td>\n",
              "      <td>7705.882</td>\n",
              "    </tr>\n",
              "    <tr>\n",
              "      <th>2</th>\n",
              "      <td>150000.000</td>\n",
              "      <td>156075.759</td>\n",
              "      <td>6075.759</td>\n",
              "    </tr>\n",
              "    <tr>\n",
              "      <th>3</th>\n",
              "      <td>85000.000</td>\n",
              "      <td>102400.991</td>\n",
              "      <td>17400.991</td>\n",
              "    </tr>\n",
              "    <tr>\n",
              "      <th>4</th>\n",
              "      <td>135000.000</td>\n",
              "      <td>135571.622</td>\n",
              "      <td>571.622</td>\n",
              "    </tr>\n",
              "    <tr>\n",
              "      <th>5</th>\n",
              "      <td>135000.000</td>\n",
              "      <td>109560.000</td>\n",
              "      <td>25440.000</td>\n",
              "    </tr>\n",
              "    <tr>\n",
              "      <th>6</th>\n",
              "      <td>68000.000</td>\n",
              "      <td>75181.250</td>\n",
              "      <td>7181.250</td>\n",
              "    </tr>\n",
              "    <tr>\n",
              "      <th>7</th>\n",
              "      <td>110000.000</td>\n",
              "      <td>140444.444</td>\n",
              "      <td>30444.444</td>\n",
              "    </tr>\n",
              "    <tr>\n",
              "      <th>8</th>\n",
              "      <td>134000.000</td>\n",
              "      <td>158431.250</td>\n",
              "      <td>24431.250</td>\n",
              "    </tr>\n",
              "    <tr>\n",
              "      <th>9</th>\n",
              "      <td>110000.000</td>\n",
              "      <td>76701.202</td>\n",
              "      <td>33298.798</td>\n",
              "    </tr>\n",
              "  </tbody>\n",
              "</table>\n",
              "</div>"
            ],
            "text/plain": [
              "   Valor real  Valor Pred  Dif(+/-)\n",
              "0   80000.000  103438.660 23438.660\n",
              "1  128000.000  135705.882  7705.882\n",
              "2  150000.000  156075.759  6075.759\n",
              "3   85000.000  102400.991 17400.991\n",
              "4  135000.000  135571.622   571.622\n",
              "5  135000.000  109560.000 25440.000\n",
              "6   68000.000   75181.250  7181.250\n",
              "7  110000.000  140444.444 30444.444\n",
              "8  134000.000  158431.250 24431.250\n",
              "9  110000.000   76701.202 33298.798"
            ]
          },
          "metadata": {
            "tags": []
          },
          "execution_count": 21
        }
      ]
    }
  ]
}